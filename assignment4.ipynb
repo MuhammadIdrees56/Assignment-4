{
 "cells": [
  {
   "cell_type": "markdown",
   "id": "d6690f04-95d5-4df3-a847-03315b1c201e",
   "metadata": {},
   "source": [
    "***Bismillah***"
   ]
  },
  {
   "cell_type": "code",
   "execution_count": null,
   "id": "7260f24f-12f9-4a1c-9cde-6f62c29e38b1",
   "metadata": {},
   "outputs": [],
   "source": [
    "# #Q4. You are given a list that contains some duplicate items. Remove the duplicates by converting the\n",
    "# list to a set.\n",
    "# shopping_list = [&quot;apple&quot;, &quot;banana&quot;, &quot;apple&quot;, &quot;orange&quot;, &quot;banana&quot;, &quot;grape&quot;]\n"
   ]
  },
  {
   "cell_type": "code",
   "execution_count": 2,
   "id": "f286e0bf-c8e1-4d56-93f5-b5045f33ca14",
   "metadata": {},
   "outputs": [
    {
     "data": {
      "text/plain": [
       "['apple', 'banana', 'apple', 'orange', 'banana', 'grape']"
      ]
     },
     "execution_count": 2,
     "metadata": {},
     "output_type": "execute_result"
    }
   ],
   "source": [
    "shopping_list = [\"apple\", \"banana\", \"apple\", \"orange\", \"banana\", \"grape\"]\n",
    "shopping_list"
   ]
  },
  {
   "cell_type": "code",
   "execution_count": 3,
   "id": "cf7e88a1-80cf-4dc7-8e90-7844db802ff8",
   "metadata": {},
   "outputs": [],
   "source": [
    "a = set(shopping_list)"
   ]
  },
  {
   "cell_type": "code",
   "execution_count": 4,
   "id": "5883c482-e33f-42b0-8fea-ff8b9d7cec8b",
   "metadata": {},
   "outputs": [
    {
     "data": {
      "text/plain": [
       "{'apple', 'banana', 'grape', 'orange'}"
      ]
     },
     "execution_count": 4,
     "metadata": {},
     "output_type": "execute_result"
    }
   ],
   "source": [
    "a"
   ]
  },
  {
   "cell_type": "code",
   "execution_count": null,
   "id": "a7516430-527d-432f-a779-1bc60620c083",
   "metadata": {},
   "outputs": [],
   "source": [
    "# Q1 Q1. my_tuple = ( (1, 2, 3), [4, 5, 6], (&#39;apple&#39;, &#39;banana&#39;, &#39;cherry&#39;), [7, 8, 9] )\n",
    "# • Print all elements from my_tuple on a new line (using for loop)\n",
    "# • Create a new tuple by concatenating the first and last elements of my_tuple"
   ]
  },
  {
   "cell_type": "raw",
   "id": "150e5607-9a5a-4239-978b-c22532d2a3ea",
   "metadata": {},
   "source": [
    "my_tuple = ((1, 2, 3), [4, 5, 6], ('apple', 'banana', 'cherry'), [7, 8, 9])"
   ]
  },
  {
   "cell_type": "code",
   "execution_count": 11,
   "id": "f78c83a1-ff90-45cc-a0ee-313b60d25854",
   "metadata": {},
   "outputs": [],
   "source": [
    "my_tuple = ((1, 2, 3), [4, 5, 6], ('apple', 'banana', 'cherry'), [7, 8, 9])"
   ]
  },
  {
   "cell_type": "code",
   "execution_count": 12,
   "id": "995bb063-2518-4343-a926-4a6d69c73064",
   "metadata": {},
   "outputs": [
    {
     "data": {
      "text/plain": [
       "((1, 2, 3), [4, 5, 6], ('apple', 'banana', 'cherry'), [7, 8, 9])"
      ]
     },
     "execution_count": 12,
     "metadata": {},
     "output_type": "execute_result"
    }
   ],
   "source": [
    "my_tuple"
   ]
  },
  {
   "cell_type": "code",
   "execution_count": 15,
   "id": "1341b1c8-cc8d-4127-ae13-a5f546edcdf8",
   "metadata": {},
   "outputs": [
    {
     "name": "stdout",
     "output_type": "stream",
     "text": [
      "(1, 2, 3)\n",
      "[4, 5, 6]\n",
      "('apple', 'banana', 'cherry')\n",
      "[7, 8, 9]\n"
     ]
    }
   ],
   "source": [
    "for element in my_tuple:\n",
    "    print(element)"
   ]
  },
  {
   "cell_type": "code",
   "execution_count": 21,
   "id": "129f3f3d-50f8-4019-a83e-734a6c412e0b",
   "metadata": {},
   "outputs": [],
   "source": [
    "tuple_idrees = my_tuple[0] + my_tuple[2] # it is not allowing me to concatentae the list"
   ]
  },
  {
   "cell_type": "code",
   "execution_count": 18,
   "id": "d319f542-65dd-42ee-afe1-addd5098c747",
   "metadata": {},
   "outputs": [
    {
     "data": {
      "text/plain": [
       "((1, 2, 3), [4, 5, 6], ('apple', 'banana', 'cherry'), [7, 8, 9])"
      ]
     },
     "execution_count": 18,
     "metadata": {},
     "output_type": "execute_result"
    }
   ],
   "source": [
    "my_tuple"
   ]
  },
  {
   "cell_type": "code",
   "execution_count": 22,
   "id": "48f67025-bbb2-467b-8298-4d2e7b8a36a1",
   "metadata": {},
   "outputs": [
    {
     "data": {
      "text/plain": [
       "(1, 2, 3, 'apple', 'banana', 'cherry')"
      ]
     },
     "execution_count": 22,
     "metadata": {},
     "output_type": "execute_result"
    }
   ],
   "source": [
    "tuple_idreess"
   ]
  },
  {
   "cell_type": "code",
   "execution_count": null,
   "id": "bd0ded75-8dc3-4b55-bfa2-cd445e6c92da",
   "metadata": {},
   "outputs": [],
   "source": [
    "# Q6. Write a Python program that calculates the sum of all even numbers between 1 and 50\n",
    "# (inclusive) using a for loop.\n",
    "# Hint\n",
    "# 1. Initialize a variable to hold the sum (e.g., sum_of_evens).\n",
    "# 2. Use a for loop to iterate through all numbers from 1 to 50.\n",
    "# 3. Inside the loop, check if the number is even.\n",
    "# 4. If the number is even, add it to sum_of_evens.\n",
    "# 5. After the loop finishes, print the total sum of all even numbers between 1 and 50."
   ]
  },
  {
   "cell_type": "code",
   "execution_count": 33,
   "id": "f77ae7f6-3a9e-46e3-932f-fb31b5c78a40",
   "metadata": {},
   "outputs": [
    {
     "name": "stdout",
     "output_type": "stream",
     "text": [
      "0\n",
      "2\n",
      "4\n",
      "6\n",
      "8\n",
      "10\n",
      "12\n",
      "14\n",
      "16\n",
      "18\n",
      "20\n",
      "22\n",
      "24\n",
      "26\n",
      "28\n",
      "30\n",
      "32\n",
      "34\n",
      "36\n",
      "38\n",
      "40\n",
      "42\n",
      "44\n",
      "46\n",
      "48\n",
      "50\n"
     ]
    }
   ],
   "source": [
    "\n",
    "\n",
    "    \n",
    "for l in range(0,51,2):\n",
    "    print(l)\n",
    "  \n",
    "\n"
   ]
  },
  {
   "cell_type": "code",
   "execution_count": 35,
   "id": "00ec53e2-77d3-4be3-8409-104a89942a49",
   "metadata": {},
   "outputs": [],
   "source": [
    "# Q2. inventory = { &quot;The Great Gatsby&quot;: {&quot;price&quot;: 10.99, &quot;quantity&quot;: 5}, &quot;Rich dad poor dad&quot;: {&quot;price&quot;:\n",
    "# 8.99, &quot;quantity&quot;: 8}, &quot;Harry Potter&quot;: {&quot;price&quot;: 12.50, &quot;quantity&quot;: 2}, }\n",
    "# • Add a new book in inventory using method and get all book titles using method\n",
    "# • Remove a book if it&#39;s out of stock\n",
    "\n",
    "inventory = {\n",
    "    \"The Great Gatsby\": {\"price\": 10.99, \"quantity\": 5},\n",
    "    \"Rich dad poor dad\": {\"price\": 8.99, \"quantity\": 8},\n",
    "    \"Harry Potter\": {\"price\": 12.50, \"quantity\": 2},\n",
    "}"
   ]
  },
  {
   "cell_type": "code",
   "execution_count": 36,
   "id": "93151bec-65df-4dc9-a244-fa1b5a974e21",
   "metadata": {},
   "outputs": [
    {
     "data": {
      "text/plain": [
       "{'The Great Gatsby': {'price': 10.99, 'quantity': 5},\n",
       " 'Rich dad poor dad': {'price': 8.99, 'quantity': 8},\n",
       " 'Harry Potter': {'price': 12.5, 'quantity': 2}}"
      ]
     },
     "execution_count": 36,
     "metadata": {},
     "output_type": "execute_result"
    }
   ],
   "source": [
    "inventory"
   ]
  },
  {
   "cell_type": "code",
   "execution_count": 37,
   "id": "45a2b002-9d21-43a3-86e5-9b0a7094ab82",
   "metadata": {},
   "outputs": [
    {
     "name": "stdout",
     "output_type": "stream",
     "text": [
      "The Great Gatsby\n",
      "Rich dad poor dad\n",
      "Harry Potter\n"
     ]
    }
   ],
   "source": [
    "for value in inventory:\n",
    "    print(value)"
   ]
  },
  {
   "cell_type": "code",
   "execution_count": 42,
   "id": "bc69584a-7208-45a6-98f9-67f132a28633",
   "metadata": {},
   "outputs": [
    {
     "data": {
      "text/plain": [
       "{'price': 12.5, 'quantity': 2}"
      ]
     },
     "execution_count": 42,
     "metadata": {},
     "output_type": "execute_result"
    }
   ],
   "source": [
    "inventory.pop(\"Harry Potter\") # remove"
   ]
  },
  {
   "cell_type": "code",
   "execution_count": 43,
   "id": "571e3d94-199d-4020-86da-1ff28a83c05d",
   "metadata": {},
   "outputs": [
    {
     "data": {
      "text/plain": [
       "{'The Great Gatsby': {'price': 10.99, 'quantity': 5},\n",
       " 'Rich dad poor dad': {'price': 8.99, 'quantity': 8}}"
      ]
     },
     "execution_count": 43,
     "metadata": {},
     "output_type": "execute_result"
    }
   ],
   "source": [
    "inventory"
   ]
  },
  {
   "cell_type": "code",
   "execution_count": 47,
   "id": "755e97e2-e85e-467f-8fd0-17fd4dca4e78",
   "metadata": {},
   "outputs": [],
   "source": [
    "new_book = 'jhon'\n",
    "details_book = {\"price\": 12.50, \"quantity\": 90}\n"
   ]
  },
  {
   "cell_type": "code",
   "execution_count": 48,
   "id": "e26bc211-4ac5-4d25-9781-f45c5008ca77",
   "metadata": {},
   "outputs": [],
   "source": [
    "inventory[new_book] = details_book"
   ]
  },
  {
   "cell_type": "code",
   "execution_count": 49,
   "id": "64842f80-0999-42b4-9aa2-12fcc734cacd",
   "metadata": {},
   "outputs": [
    {
     "data": {
      "text/plain": [
       "{'The Great Gatsby': {'price': 10.99, 'quantity': 5},\n",
       " 'Rich dad poor dad': {'price': 8.99, 'quantity': 8},\n",
       " 'jhon': {'price': 12.5, 'quantity': 90}}"
      ]
     },
     "execution_count": 49,
     "metadata": {},
     "output_type": "execute_result"
    }
   ],
   "source": [
    "inventory"
   ]
  },
  {
   "cell_type": "code",
   "execution_count": 5,
   "id": "d873e8ea-aa65-4e4f-ba0e-79cb7202450b",
   "metadata": {},
   "outputs": [
    {
     "name": "stdin",
     "output_type": "stream",
     "text": [
      "please enter the number 3\n"
     ]
    },
    {
     "name": "stdout",
     "output_type": "stream",
     "text": [
      "3\n",
      "2\n",
      "1\n",
      "0\n"
     ]
    }
   ],
   "source": [
    "#Q9 # Problem Statement: Write a Python program that takes an integer input from the user and\n",
    "# counts down from that number to 0. The program should display the current number at each step\n",
    "# until it reaches 0, at which point it should print a message indicating the countdown is finished\n",
    "\n",
    "k = int(input(\"please enter the number\"))\n",
    "for a in range(k, -1,-1):\n",
    " print(a)"
   ]
  },
  {
   "cell_type": "code",
   "execution_count": 20,
   "id": "4ce863de-ceca-4347-87f3-d6cfe20bd168",
   "metadata": {},
   "outputs": [
    {
     "name": "stdin",
     "output_type": "stream",
     "text": [
      "Please enter a number between 1 and 10:  7\n"
     ]
    },
    {
     "name": "stdout",
     "output_type": "stream",
     "text": [
      "7 x 1 = 7\n",
      "7 x 2 = 14\n",
      "7 x 3 = 21\n",
      "7 x 4 = 28\n",
      "7 x 5 = 35\n",
      "7 x 6 = 42\n",
      "7 x 7 = 49\n",
      "7 x 8 = 56\n",
      "7 x 9 = 63\n",
      "7 x 10 = 70\n"
     ]
    }
   ],
   "source": [
    "#Q7\n",
    "number = int(input(\"Please enter a number between 1 and 10: \"))\n",
    "\n",
    "\n",
    "if 1 <= number <= 10:\n",
    "   \n",
    "    for i in range(1, 11):\n",
    "        product = number * i\n",
    "        print(f\"{number} x {i} = {product}\")\n",
    "    "
   ]
  },
  {
   "cell_type": "code",
   "execution_count": 24,
   "id": "a6e2c019-7bc2-4dcc-82ac-c222af4a8291",
   "metadata": {},
   "outputs": [
    {
     "name": "stdin",
     "output_type": "stream",
     "text": [
      "Please enter a number between 1 and 10:  8\n"
     ]
    },
    {
     "name": "stdout",
     "output_type": "stream",
     "text": [
      "8 x 1 = 5\n",
      "8 x 2 = 5\n",
      "8 x 3 = 5\n",
      "8 x 4 = 5\n",
      "8 x 5 = 5\n",
      "8 x 6 = 5\n",
      "8 x 7 = 5\n",
      "8 x 8 = 5\n",
      "8 x 9 = 5\n",
      "8 x 10 = 5\n"
     ]
    }
   ],
   "source": [
    "# #Q8\n",
    "# Q8. Power of a Number\n",
    "# Write a Python program that takes a number and prints the powers of the number (starting from 1\n",
    "# to 10) using a while loop. For example, if the user inputs 3, the output should be:\n",
    "# 3^1 = 3\n",
    "# 3^2 = 9\n",
    "# 3^3 = 27\n",
    "# ... up to 3^10.\n",
    "ok = int(input(\"Please enter a number between 1 and 10: \"))\n",
    "\n",
    "\n",
    "if 1 <= ok <= 10:\n",
    "   \n",
    "    for k in range(1, 11):\n",
    "        produc = number^2\n",
    "       \n",
    "        print(f\"{ok} x {k} = {produc}\") \n"
   ]
  },
  {
   "cell_type": "code",
   "execution_count": 25,
   "id": "98d381c4-9c09-4489-92f1-ebeac87b28e7",
   "metadata": {},
   "outputs": [
    {
     "name": "stdin",
     "output_type": "stream",
     "text": [
      "Enter the number of rows for the triangle:  8\n"
     ]
    },
    {
     "name": "stdout",
     "output_type": "stream",
     "text": [
      "* \n",
      "* * \n",
      "* * * \n",
      "* * * * \n",
      "* * * * * \n",
      "* * * * * * \n",
      "* * * * * * * \n",
      "* * * * * * * * \n"
     ]
    }
   ],
   "source": [
    "#10\n",
    "\n",
    "n = int(input(\"Enter the number of rows for the triangle: \"))\n",
    "\n",
    "for i in range(1, n + 1):\n",
    "    print(\"* \" * i)"
   ]
  },
  {
   "cell_type": "code",
   "execution_count": 2,
   "id": "b3128907-126e-4c75-9979-ae7ea5daad19",
   "metadata": {},
   "outputs": [
    {
     "name": "stdout",
     "output_type": "stream",
     "text": [
      "{101: {'name': 'Laptop', 'category': 'Electronics', 'price': 1200, 'stock': 50}, 102: {'name': 'Shirt', 'category': 'Apparel', 'price': 25, 'stock': 250}, 103: {'name': 'Coffee Maker', 'category': 'Home Appliances', 'price': 80, 'stock': 30}, 104: {'name': 'Smartphone', 'category': 'Electronics', 'price': 700, 'stock': 100}}\n"
     ]
    }
   ],
   "source": [
    "#Q4\n",
    "\n",
    "products = {\n",
    "    101: {\"name\": \"Laptop\", \"category\": \"Electronics\", \"price\": 1200, \"stock\": 50},\n",
    "    102: {\"name\": \"Shirt\", \"category\": \"Apparel\", \"price\": 25, \"stock\": 200},\n",
    "    103: {\"name\": \"Coffee Maker\", \"category\": \"Home Appliances\", \"price\": 80, \"stock\": 30}\n",
    "}\n",
    "\n",
    "products[102][\"stock\"] += 50\n",
    "\n",
    "products[104] = {\n",
    "    \"name\": \"Smartphone\",\n",
    "    \"category\": \"Electronics\",\n",
    "    \"price\": 700,\n",
    "    \"stock\": 100\n",
    "}\n",
    "\n",
    "\n",
    "print(products)"
   ]
  },
  {
   "cell_type": "code",
   "execution_count": null,
   "id": "5b8908e4-e0cc-4f5f-93ac-3691467d368a",
   "metadata": {},
   "outputs": [],
   "source": []
  }
 ],
 "metadata": {
  "kernelspec": {
   "display_name": "Python 3 (ipykernel)",
   "language": "python",
   "name": "python3"
  },
  "language_info": {
   "codemirror_mode": {
    "name": "ipython",
    "version": 3
   },
   "file_extension": ".py",
   "mimetype": "text/x-python",
   "name": "python",
   "nbconvert_exporter": "python",
   "pygments_lexer": "ipython3",
   "version": "3.12.7"
  }
 },
 "nbformat": 4,
 "nbformat_minor": 5
}
